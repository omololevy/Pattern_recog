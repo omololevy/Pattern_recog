{
 "cells": [
  {
   "cell_type": "code",
   "execution_count": 4,
   "metadata": {},
   "outputs": [],
   "source": [
    "import numpy as np"
   ]
  },
  {
   "cell_type": "code",
   "execution_count": 5,
   "metadata": {},
   "outputs": [],
   "source": [
    "class Perceptron:\n",
    "    def __init__(self, num_inputs, learning_rate=0.01):\n",
    "        self.num_inputs = num_inputs\n",
    "        self.learning_rate = learning_rate\n",
    "        self.weights = np.random.rand(num_inputs)\n",
    "        self.bias = np.random.rand()\n",
    "\n",
    "    def activation_function(self, x):\n",
    "        return 1 if x >= 0 else 0\n",
    "\n",
    "    def predict(self, inputs):\n",
    "        linear_combination = np.dot(inputs, self.weights) + self.bias\n",
    "        return self.activation_function(linear_combination)\n",
    "\n",
    "    def train(self, training_inputs, labels, epochs):\n",
    "        for epoch in range(epochs):\n",
    "            for inputs, label in zip(training_inputs, labels):\n",
    "                prediction = self.predict(inputs)\n",
    "                error = label - prediction\n",
    "                self.weights += self.learning_rate * error * inputs\n",
    "                self.bias += self.learning_rate * error\n"
   ]
  },
  {
   "cell_type": "markdown",
   "metadata": {},
   "source": [
    "## Example usage:"
   ]
  },
  {
   "cell_type": "code",
   "execution_count": 6,
   "metadata": {},
   "outputs": [
    {
     "name": "stdout",
     "output_type": "stream",
     "text": [
      "Inputs: [0 0], Prediction: 1\n",
      "Inputs: [0 1], Prediction: 1\n",
      "Inputs: [1 0], Prediction: 1\n",
      "Inputs: [1 1], Prediction: 1\n"
     ]
    }
   ],
   "source": [
    "training_inputs = np.array([[0, 0], [0, 1], [1, 0], [1, 1]])\n",
    "labels = np.array([0, 0, 0, 1])\n",
    "\n",
    "perceptron = Perceptron(num_inputs=2)\n",
    "perceptron.train(training_inputs, labels, epochs=10)\n",
    "\n",
    "test_inputs = np.array([[0, 0], [0, 1], [1, 0], [1, 1]])\n",
    "for inputs in test_inputs:\n",
    "    prediction = perceptron.predict(inputs)\n",
    "    print(f\"Inputs: {inputs}, Prediction: {prediction}\")"
   ]
  }
 ],
 "metadata": {
  "kernelspec": {
   "display_name": "base",
   "language": "python",
   "name": "python3"
  },
  "language_info": {
   "codemirror_mode": {
    "name": "ipython",
    "version": 3
   },
   "file_extension": ".py",
   "mimetype": "text/x-python",
   "name": "python",
   "nbconvert_exporter": "python",
   "pygments_lexer": "ipython3",
   "version": "3.11.5"
  }
 },
 "nbformat": 4,
 "nbformat_minor": 2
}
